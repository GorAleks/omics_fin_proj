{
 "cells": [
  {
   "cell_type": "code",
   "execution_count": null,
   "id": "5089feaf",
   "metadata": {},
   "outputs": [],
   "source": [
    "# Initialize libraries\n",
    "library(\"methylKit\")\n",
    "library(\"genomation\")\n",
    "library(\"clusterProfiler\")\n",
    "library(\"biomaRt\")\n",
    "library(\"org.Mm.eg.db\")"
   ]
  },
  {
   "cell_type": "code",
   "execution_count": null,
   "id": "0bc1034d",
   "metadata": {},
   "outputs": [],
   "source": [
    "# Prepare a list of files to be analyzed\n",
    "file.list = list('/home/Aleksandra.Gorbunova/met/final_proj/non_CpG_iPSCder_rep1_chr5.bismark.cov.gz',\n",
    "                 '/home/Aleksandra.Gorbunova/met/final_proj/non_CpG_iPSCder_rep2_chr5.bismark.cov.gz',\n",
    "                 '/home/Aleksandra.Gorbunova/met/final_proj/non_CpG_iPSCder_rep3_chr5.bismark.cov.gz',\n",
    "                 '/home/Aleksandra.Gorbunova/met/final_proj/non_CpG_pm_rep1_chr5.gz.bismark.cov.gz',\n",
    "                 '/home/Aleksandra.Gorbunova/met/final_proj/non_CpG_pm_rep2_chr5.gz.bismark.cov.gz',\n",
    "                 '/home/Aleksandra.Gorbunova/met/final_proj/non_CpG_pm_rep3_chr5.gz.bismark.cov.gz')\n",
    "\n",
    "# Read the files into a methylKit object of type methylRawList: myobj\n",
    "myobj = methRead(file.list,\n",
    "                 pipeline=\"bismarkCoverage\",\n",
    "                 sample.id=list(\"iPSCder_1\",\"iPSCder_2\",\"iPSCder_3\",\"pm_1\",\"pm_2\",\"pm_3\"),\n",
    "                 assembly=\"hg38\",\n",
    "                 treatment=c(1,1,1,0,0,0),\n",
    "                 context=\"CpG\",\n",
    "                 )"
   ]
  },
  {
   "cell_type": "code",
   "execution_count": null,
   "id": "d28f22dc",
   "metadata": {},
   "outputs": [],
   "source": [
    "filtered_data <- filterByCoverage(\n",
    "  myobj,\n",
    "  lo.count = 10, # minimal covarege per site\n",
    "  lo.perc = NULL,\n",
    "  hi.count = 500, # max covarege per site (protection from PCR bias)\n",
    "  hi.perc = NULL\n",
    ")"
   ]
  },
  {
   "cell_type": "code",
   "execution_count": null,
   "id": "482a123c",
   "metadata": {},
   "outputs": [],
   "source": [
    "sapply(filtered_data, nrow)"
   ]
  },
  {
   "cell_type": "code",
   "execution_count": null,
   "id": "15dcc557",
   "metadata": {},
   "outputs": [],
   "source": [
    "# Visualisation of coverage for each sample\n",
    "pdf(\"coverage_distribution_nonCpG.pdf\", width = 10, height = 6)\n",
    "par(mfrow = c(2, 3))\n",
    "for(i in 1:length(filtered_data)){\n",
    "  getCoverageStats(filtered_data[[i]], plot = TRUE)\n",
    "}\n",
    "dev.off()"
   ]
  },
  {
   "cell_type": "code",
   "execution_count": null,
   "id": "62394da4",
   "metadata": {},
   "outputs": [],
   "source": [
    "#normalisation and visualisation\n",
    "normalized_data <- normalizeCoverage(filtered_data)\n",
    "pdf(\"coverage_distribution_after_norm.pdf\", width = 10, height = 6)\n",
    "par(mfrow = c(2, 3)) # 2 строки, 3 колонки для 6 образцов\n",
    "for(i in 1:length(normalized_data)){\n",
    "  getCoverageStats(normalized_data[[i]], plot = TRUE)\n",
    "}\n",
    "dev.off()"
   ]
  },
  {
   "cell_type": "code",
   "execution_count": null,
   "id": "6dc580ea",
   "metadata": {},
   "outputs": [],
   "source": [
    "meth = unite(filtered_data) \n",
    "dim(meth)"
   ]
  },
  {
   "cell_type": "markdown",
   "id": "2937c82d",
   "metadata": {},
   "source": [
    "Clustering analysis"
   ]
  },
  {
   "cell_type": "code",
   "execution_count": null,
   "id": "2159b6e2",
   "metadata": {},
   "outputs": [],
   "source": [
    "clusterSamples(meth, dist=\"correlation\", method=\"ward\", plot=TRUE)"
   ]
  },
  {
   "cell_type": "code",
   "execution_count": null,
   "id": "10eb338a",
   "metadata": {},
   "outputs": [],
   "source": [
    "pc = PCASamples(meth, obj.return=TRUE, adj.lim=c(1,1))"
   ]
  },
  {
   "cell_type": "markdown",
   "id": "0799658d",
   "metadata": {},
   "source": [
    "Differential methilation analysis"
   ]
  },
  {
   "cell_type": "code",
   "execution_count": null,
   "id": "1e28baff",
   "metadata": {},
   "outputs": [],
   "source": [
    "myDiff = calculateDiffMeth(meth, test = \"Chisq\", overdispersion ='MN', mc.cores=1)"
   ]
  },
  {
   "cell_type": "code",
   "execution_count": null,
   "id": "bdae9ef3",
   "metadata": {},
   "outputs": [],
   "source": [
    "#save in bedgraph format\n",
    "bedgraph(\n",
    "  methylObj = myDiff,\n",
    "  file.name = \"myDiff_nonCpG.bedgraph\",\n",
    "  col.name = \"meth.diff\"  \n",
    ")"
   ]
  },
  {
   "cell_type": "markdown",
   "id": "67c40c95",
   "metadata": {},
   "source": [
    "Extract significant differentially methylated sites"
   ]
  },
  {
   "cell_type": "code",
   "execution_count": null,
   "id": "f678a18d",
   "metadata": {},
   "outputs": [],
   "source": [
    "myDiff20 = getMethylDiff(myDiff, difference=20, qvalue=0.1)\n",
    "#used this parameters due to low amount of results for more strong one"
   ]
  },
  {
   "cell_type": "code",
   "execution_count": null,
   "id": "cab7ba6f",
   "metadata": {},
   "outputs": [],
   "source": [
    "#save in bedgraph format\n",
    "bedgraph(\n",
    "  methylObj = myDiff20,\n",
    "  file.name = \"myDiff20_nonCpG.bedgraph\",\n",
    "  col.name = \"meth.diff\"  \n",
    ")"
   ]
  },
  {
   "cell_type": "markdown",
   "id": "17744f8b",
   "metadata": {},
   "source": [
    "Annotation of differentially methylated sites"
   ]
  },
  {
   "cell_type": "code",
   "execution_count": null,
   "id": "38827f47",
   "metadata": {},
   "outputs": [],
   "source": [
    "refseq_anot <- readTranscriptFeatures(\"/home/Aleksandra.Gorbunova/met/final_proj/hg38_for_annotation_bed\")"
   ]
  },
  {
   "cell_type": "code",
   "execution_count": null,
   "id": "8b5eb990",
   "metadata": {},
   "outputs": [],
   "source": [
    "refseq_df <- as.data.frame(refseq_anot)"
   ]
  },
  {
   "cell_type": "code",
   "execution_count": null,
   "id": "beebafd6",
   "metadata": {},
   "outputs": [],
   "source": [
    "bed_columns <- c(\"chr\", \"start\", \"end\", \"strand\")\n",
    "myDiff_df <- getData(myDiff)\n",
    "diff_bed <- myDiff_df[, bed_columns]"
   ]
  },
  {
   "cell_type": "code",
   "execution_count": null,
   "id": "e275107b",
   "metadata": {},
   "outputs": [],
   "source": [
    "# we couldn't use simple annotation, cause we want to look at distances to \n",
    "# nearest feature (gene or promoter)\n",
    "# diff_bed to GRanges\n",
    "diff_gr <- GRanges(\n",
    "  seqnames = diff_bed$chr,\n",
    "  ranges = IRanges(start = diff_bed$start, end = diff_bed$end),\n",
    "  strand = diff_bed$strand\n",
    ")\n",
    "\n",
    "# exons to genes\n",
    "genes_df <- refseq_df %>%\n",
    "  filter(group_name != \"promoters\") %>%\n",
    "  group_by(name, seqnames, strand) %>%\n",
    "  summarise(start = min(start), end = max(end), .groups = \"drop\")\n",
    "\n",
    "genes_gr <- GRanges(\n",
    "  seqnames = genes_df$seqnames,\n",
    "  ranges = IRanges(start = genes_df$start, end = genes_df$end),\n",
    "  strand = genes_df$strand,\n",
    "  gene_id = genes_df$name\n",
    ")\n",
    "\n",
    "# promoters agregation \n",
    "promoters_df <- refseq_df %>%\n",
    "  filter(group_name == \"promoters\")\n",
    "\n",
    "promoters_gr <- GRanges(\n",
    "  seqnames = promoters_df$seqnames,\n",
    "  ranges = IRanges(start = promoters_df$start, end = promoters_df$end),\n",
    "  strand = promoters_df$strand,\n",
    "  promoter_id = promoters_df$name \n",
    ")\n",
    "\n",
    "# for each position looking for nearest promoter and gene\n",
    "nearest_promoter <- nearest(diff_gr, promoters_gr, ignore.strand = TRUE)\n",
    "nearest_gene <- nearest(diff_gr, genes_gr, ignore.strand = TRUE)\n",
    "\n",
    "# calculating distances\n",
    "dist_to_promoter <- rep(NA_integer_, length(diff_gr))\n",
    "dist_to_gene <- rep(NA_integer_, length(diff_gr))\n",
    "\n",
    "hits_promoter <- which(!is.na(nearest_promoter))\n",
    "dist_to_promoter[hits_promoter] <- distance(diff_gr[hits_promoter], promoters_gr[nearest_promoter[hits_promoter]])\n",
    "\n",
    "hits_gene <- which(!is.na(nearest_gene))\n",
    "dist_to_gene[hits_gene] <- distance(diff_gr[hits_gene], genes_gr[nearest_gene[hits_gene]])\n",
    "\n",
    "# choose the nearest\n",
    "nearest_element <- character(length(diff_gr))\n",
    "nearest_element_id <- character(length(diff_gr))\n",
    "nearest_distance <- numeric(length(diff_gr))\n",
    "\n",
    "for(i in seq_along(diff_gr)) {\n",
    "  p_dist <- dist_to_promoter[i]\n",
    "  g_dist <- dist_to_gene[i]\n",
    "  \n",
    "  if (is.na(p_dist) && is.na(g_dist)) {\n",
    "    nearest_element[i] <- NA\n",
    "    nearest_element_id[i] <- NA\n",
    "    nearest_distance[i] <- NA\n",
    "  } else if (!is.na(p_dist) && (is.na(g_dist) || p_dist <= g_dist)) {\n",
    "    nearest_element[i] <- \"promoter\"\n",
    "    nearest_element_id[i] <- promoters_gr$promoter_id[nearest_promoter[i]]\n",
    "    nearest_distance[i] <- p_dist\n",
    "  } else {\n",
    "    nearest_element[i] <- \"gene\"\n",
    "    nearest_element_id[i] <- genes_gr$gene_id[nearest_gene[i]]\n",
    "    nearest_distance[i] <- g_dist\n",
    "  }\n",
    "}\n",
    "\n",
    "# for each promoter seeking for the gene (start > end)\n",
    "\n",
    "linked_gene_for_promoter <- rep(NA_character_, length(diff_gr))\n",
    "\n",
    "promoter_idx <- which(nearest_element == \"promoter\")\n",
    "for (i in promoter_idx) {\n",
    "  prom_chr <- as.character(seqnames(promoters_gr[nearest_promoter[i]]))\n",
    "  prom_end <- end(promoters_gr[nearest_promoter[i]])\n",
    "  \n",
    "  candidate_genes <- genes_gr[seqnames(genes_gr) == prom_chr & start(genes_gr) > prom_end]\n",
    "  \n",
    "  if (length(candidate_genes) > 0) {\n",
    "    distances_downstream <- start(candidate_genes) - prom_end\n",
    "    linked_gene_for_promoter[i] <- candidate_genes$gene_id[which.min(distances_downstream)]\n",
    "  }\n",
    "}\n",
    "\n",
    "diff_bed$nearest_element <- nearest_element\n",
    "diff_bed$nearest_id <- nearest_element_id\n",
    "diff_bed$distance_to_nearest <- nearest_distance\n",
    "diff_bed$linked_gene_for_promoter <- linked_gene_for_promoter\n"
   ]
  },
  {
   "cell_type": "code",
   "execution_count": null,
   "id": "66944add",
   "metadata": {},
   "outputs": [],
   "source": [
    "#save results in csv\n",
    "write.csv(diff_bed, file = \"diff_bed_with_distances_nonCpG.csv\", row.names = FALSE)\n"
   ]
  },
  {
   "cell_type": "code",
   "execution_count": null,
   "id": "826ae2c4",
   "metadata": {},
   "outputs": [],
   "source": [
    "#visualisation\n",
    "library(dplyr)\n",
    "library(ggplot2)\n",
    "\n",
    "plot_df <- diff_bed %>%\n",
    "  filter(!is.na(distance_to_nearest)) %>%\n",
    "  mutate(feature_type = ifelse(nearest_element == \"gene\", \"Gene\",\n",
    "                               ifelse(nearest_element == \"promoter\", \"Promoter\", NA))) %>%\n",
    "  filter(!is.na(feature_type))"
   ]
  },
  {
   "cell_type": "code",
   "execution_count": null,
   "id": "23766550",
   "metadata": {},
   "outputs": [],
   "source": [
    "ggplot(plot_df, aes(x = distance_to_nearest, fill = feature_type)) +\n",
    "  geom_histogram(position = \"identity\", alpha = 0.5, bins = 50) +\n",
    "  scale_x_log10(name = \"Distance to nearest feature (bp, log scale)\") +\n",
    "  scale_y_continuous(name = \"Count\") +\n",
    "  labs(title = \"Distribution of distances to nearest genes and promoters\") +\n",
    "  theme_minimal() +\n",
    "  theme(legend.title = element_blank())"
   ]
  },
  {
   "cell_type": "code",
   "execution_count": null,
   "id": "1022583b",
   "metadata": {},
   "outputs": [],
   "source": [
    "#repeate for 20% diff\n",
    "myDiff_df_20 <- getData(myDiff25)\n",
    "diff_bed_20 <- myDiff_df_20[, bed_columns]\n",
    "diff_bed_20"
   ]
  },
  {
   "cell_type": "code",
   "execution_count": null,
   "id": "123ec985",
   "metadata": {},
   "outputs": [],
   "source": [
    "diff_gr <- GRanges(\n",
    "  seqnames = diff_bed_20$chr,\n",
    "  ranges = IRanges(start = diff_bed_20$start, end = diff_bed_20$end),\n",
    "  strand = diff_bed_20$strand\n",
    ")\n",
    "\n",
    "genes_df <- refseq_df %>%\n",
    "  filter(group_name != \"promoters\") %>%\n",
    "  group_by(name, seqnames, strand) %>%\n",
    "  summarise(start = min(start), end = max(end), .groups = \"drop\")\n",
    "\n",
    "genes_gr <- GRanges(\n",
    "  seqnames = genes_df$seqnames,\n",
    "  ranges = IRanges(start = genes_df$start, end = genes_df$end),\n",
    "  strand = genes_df$strand,\n",
    "  gene_id = genes_df$name\n",
    ")\n",
    "\n",
    "promoters_df <- refseq_df %>%\n",
    "  filter(group_name == \"promoters\")\n",
    "\n",
    "promoters_gr <- GRanges(\n",
    "  seqnames = promoters_df$seqnames,\n",
    "  ranges = IRanges(start = promoters_df$start, end = promoters_df$end),\n",
    "  strand = promoters_df$strand,\n",
    "  promoter_id = promoters_df$name  \n",
    ")\n",
    "\n",
    "nearest_promoter <- nearest(diff_gr, promoters_gr, ignore.strand = TRUE)\n",
    "nearest_gene <- nearest(diff_gr, genes_gr, ignore.strand = TRUE)\n",
    "\n",
    "dist_to_promoter <- rep(NA_integer_, length(diff_gr))\n",
    "dist_to_gene <- rep(NA_integer_, length(diff_gr))\n",
    "\n",
    "hits_promoter <- which(!is.na(nearest_promoter))\n",
    "dist_to_promoter[hits_promoter] <- distance(diff_gr[hits_promoter], promoters_gr[nearest_promoter[hits_promoter]])\n",
    "\n",
    "hits_gene <- which(!is.na(nearest_gene))\n",
    "dist_to_gene[hits_gene] <- distance(diff_gr[hits_gene], genes_gr[nearest_gene[hits_gene]])\n",
    "\n",
    "nearest_element <- character(length(diff_gr))\n",
    "nearest_element_id <- character(length(diff_gr))\n",
    "nearest_distance <- numeric(length(diff_gr))\n",
    "\n",
    "for(i in seq_along(diff_gr)) {\n",
    "  p_dist <- dist_to_promoter[i]\n",
    "  g_dist <- dist_to_gene[i]\n",
    "  \n",
    "  if (is.na(p_dist) && is.na(g_dist)) {\n",
    "    nearest_element[i] <- NA\n",
    "    nearest_element_id[i] <- NA\n",
    "    nearest_distance[i] <- NA\n",
    "  } else if (!is.na(p_dist) && (is.na(g_dist) || p_dist <= g_dist)) {\n",
    "    nearest_element[i] <- \"promoter\"\n",
    "    nearest_element_id[i] <- promoters_gr$promoter_id[nearest_promoter[i]]\n",
    "    nearest_distance[i] <- p_dist\n",
    "  } else {\n",
    "    nearest_element[i] <- \"gene\"\n",
    "    nearest_element_id[i] <- genes_gr$gene_id[nearest_gene[i]]\n",
    "    nearest_distance[i] <- g_dist\n",
    "  }\n",
    "}\n",
    "\n",
    "linked_gene_for_promoter <- rep(NA_character_, length(diff_gr))\n",
    "\n",
    "promoter_idx <- which(nearest_element == \"promoter\")\n",
    "for (i in promoter_idx) {\n",
    "  prom_chr <- as.character(seqnames(promoters_gr[nearest_promoter[i]]))\n",
    "  prom_end <- end(promoters_gr[nearest_promoter[i]])\n",
    "  \n",
    "  candidate_genes <- genes_gr[seqnames(genes_gr) == prom_chr & start(genes_gr) > prom_end]\n",
    "  \n",
    "  if (length(candidate_genes) > 0) {\n",
    "    distances_downstream <- start(candidate_genes) - prom_end\n",
    "    linked_gene_for_promoter[i] <- candidate_genes$gene_id[which.min(distances_downstream)]\n",
    "  }\n",
    "}\n",
    "\n",
    "diff_bed_20$nearest_element <- nearest_element\n",
    "diff_bed_20$nearest_id <- nearest_element_id\n",
    "diff_bed_20$distance_to_nearest <- nearest_distance\n",
    "diff_bed_20$linked_gene_for_promoter <- linked_gene_for_promoter\n"
   ]
  },
  {
   "cell_type": "code",
   "execution_count": null,
   "id": "b0945038",
   "metadata": {},
   "outputs": [],
   "source": [
    "write.csv(diff_bed_20, file = \"diff_bed_with_distances_20_nonCpG.csv\", row.names = FALSE)"
   ]
  },
  {
   "cell_type": "code",
   "execution_count": null,
   "id": "bcfdc607",
   "metadata": {},
   "outputs": [],
   "source": [
    "plot_df <- diff_bed_20 %>%\n",
    "  filter(!is.na(distance_to_nearest)) %>%\n",
    "  mutate(feature_type = ifelse(nearest_element == \"gene\", \"Gene\",\n",
    "                               ifelse(nearest_element == \"promoter\", \"Promoter\", NA))) %>%\n",
    "  filter(!is.na(feature_type))\n",
    "\n",
    "ggplot(plot_df, aes(x = distance_to_nearest, fill = feature_type)) +\n",
    "  geom_histogram(position = \"identity\", alpha = 0.5, bins = 50) +\n",
    "  scale_x_log10(name = \"Distance to nearest feature (bp, log scale)\") +\n",
    "  scale_y_continuous(name = \"Count\") +\n",
    "  labs(title = \"Distribution of distances to nearest genes and promoters\") +\n",
    "  theme_minimal() +\n",
    "  theme(legend.title = element_blank())"
   ]
  },
  {
   "cell_type": "markdown",
   "id": "ee69ec82",
   "metadata": {},
   "source": [
    "We also try to perform GO enrichment analysis"
   ]
  },
  {
   "cell_type": "code",
   "execution_count": null,
   "id": "3f142037",
   "metadata": {},
   "outputs": [],
   "source": [
    "#firstly we need to transform ENST to ENSG\n",
    "library(biomaRt)\n",
    "\n",
    "ensembl <- useMart(\"ensembl\", dataset = \"hsapiens_gene_ensembl\")\n",
    "# remove version of transcript from nearest_id\n",
    "diff_bed_20$nearest_id_clean <- sub(\"\\\\.\\\\d+$\", \"\", diff_bed_20$nearest_id)\n",
    "\n",
    "# and also from linked_gene_for_promoter\n",
    "diff_bed_20$linked_gene_clean <- sub(\"\\\\.\\\\d+$\", \"\", diff_bed_20$linked_gene_for_promoter)\n",
    "\n",
    "\n",
    "# collect all unique ENST from diff_bed\n",
    "enst_ids <- unique(c(diff_bed_20$nearest_id_clean, diff_bed_20$linked_gene_clean))\n",
    "enst_ids <- enst_ids[!is.na(enst_ids) & enst_ids != \".\" & enst_ids != \"\"]\n",
    "\n",
    "# mapping ENST -> ENSG\n",
    "mapping <- getBM(\n",
    "  attributes = c(\"ensembl_transcript_id\", \"ensembl_gene_id\"),\n",
    "  filters = \"ensembl_transcript_id\",\n",
    "  values = enst_ids,\n",
    "  mart = ensembl\n",
    ")\n",
    "\n",
    "enst2ensg <- setNames(mapping$ensembl_gene_id, mapping$ensembl_transcript_id)\n"
   ]
  },
  {
   "cell_type": "code",
   "execution_count": null,
   "id": "25499e7b",
   "metadata": {},
   "outputs": [],
   "source": [
    "diff_bed_20$nearest_gene_ensg <- enst2ensg[diff_bed_20$nearest_id_clean]\n",
    "diff_bed_20$linked_gene_ensg <- enst2ensg[diff_bed_20$linked_gene_clean]\n",
    "new_df <- diff_bed_20[, c(\"chr\", \"start\", \"end\", \"strand\")]\n",
    "\n",
    "new_df$gene <- ifelse(!is.na(diff_bed_20$nearest_gene_ensg),\n",
    "                      diff_bed_20$nearest_gene_ensg,\n",
    "                      diff_bed_20$linked_gene_ensg)\n",
    "\n",
    "diff_bed_20"
   ]
  },
  {
   "cell_type": "code",
   "execution_count": null,
   "id": "421a0785",
   "metadata": {},
   "outputs": [],
   "source": [
    "gene_diff_new_df_x1 = table(new_df$gene)\n",
    "gene_diff_new_df_x1 = names(gene_diff_new_df_x1[gene_diff_new_df_x1>=1])"
   ]
  },
  {
   "cell_type": "markdown",
   "id": "9698a18f",
   "metadata": {},
   "source": [
    "and also repate it for all dif met results"
   ]
  },
  {
   "cell_type": "code",
   "execution_count": null,
   "id": "ae0089a1",
   "metadata": {},
   "outputs": [],
   "source": [
    "gene_Meth = table(new_df$gene)\n",
    "gene_Meth = names(gene_Meth[gene_Meth>=1])"
   ]
  },
  {
   "cell_type": "markdown",
   "id": "af4e154b",
   "metadata": {},
   "source": [
    "Enrichment analysis"
   ]
  },
  {
   "cell_type": "markdown",
   "id": "3a72320f",
   "metadata": {},
   "source": [
    "ego <- enrichGO(gene          = gene_diff_new_df_x1,\n",
    "                universe      = gene_Meth,\n",
    "                OrgDb         = org.Mm.eg.db,\n",
    "                keyType       = 'ENSEMBL',\n",
    "                ont           = 'all',\n",
    "                pAdjustMethod = 'BH',\n",
    "                pvalueCutoff  = 0.1,\n",
    "                qvalueCutoff  = 0.1)"
   ]
  },
  {
   "cell_type": "markdown",
   "id": "27473172",
   "metadata": {},
   "source": [
    "but \"ego\" always was null"
   ]
  },
  {
   "cell_type": "markdown",
   "id": "ddbeeaf2",
   "metadata": {},
   "source": []
  }
 ],
 "metadata": {
  "kernelspec": {
   "display_name": "Python 3",
   "language": "python",
   "name": "python3"
  },
  "language_info": {
   "name": "python",
   "version": "3.10.15"
  }
 },
 "nbformat": 4,
 "nbformat_minor": 5
}
